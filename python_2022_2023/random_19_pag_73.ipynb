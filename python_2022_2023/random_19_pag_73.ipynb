{
 "cells": [
  {
   "cell_type": "code",
   "execution_count": 17,
   "id": "c5286be2",
   "metadata": {},
   "outputs": [],
   "source": [
    "from random import *\n",
    "import csv\n",
    "\n",
    "alice = [randint(1,6) for _ in range(0,10)]\n",
    "bob = [randint(1,6) for _ in range(0,10)]\n",
    "\n",
    "with open(\"lanci.csv\", \"w\") as filecsv:\n",
    "    scrittore = csv.writer(filecsv, delimiter=\",\")\n",
    "    scrittore.writerows(map(lambda x: [x], alice))\n",
    "    scrittore.writerows(map(lambda x: [x], bob))"
   ]
  },
  {
   "cell_type": "code",
   "execution_count": null,
   "id": "da3f14cb",
   "metadata": {},
   "outputs": [],
   "source": []
  },
  {
   "cell_type": "code",
   "execution_count": null,
   "id": "a2084bb4",
   "metadata": {},
   "outputs": [],
   "source": []
  }
 ],
 "metadata": {
  "kernelspec": {
   "display_name": "Python 3 (ipykernel)",
   "language": "python",
   "name": "python3"
  },
  "language_info": {
   "codemirror_mode": {
    "name": "ipython",
    "version": 3
   },
   "file_extension": ".py",
   "mimetype": "text/x-python",
   "name": "python",
   "nbconvert_exporter": "python",
   "pygments_lexer": "ipython3",
   "version": "3.9.12"
  }
 },
 "nbformat": 4,
 "nbformat_minor": 5
}
