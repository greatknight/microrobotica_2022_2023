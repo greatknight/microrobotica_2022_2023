{
 "cells": [
  {
   "cell_type": "code",
   "execution_count": 62,
   "id": "1a728740",
   "metadata": {},
   "outputs": [],
   "source": [
    "class Robot:\n",
    "    def __init__(self, nom, mass, umanoid):\n",
    "        self.nome = nom\n",
    "        self.massa = mass\n",
    "        self.umanoide = umanoid\n",
    "        nome(nom)\n",
    "        massa(mass)\n",
    "        umanoide(umanoid)\n",
    "        pericoloso(umanoid, mass)"
   ]
  },
  {
   "cell_type": "code",
   "execution_count": 73,
   "id": "fe759597",
   "metadata": {},
   "outputs": [],
   "source": [
    "def pericoloso(umanoide, massa):\n",
    "        if(umanoide==True and massa>=100):\n",
    "            print(\"pericoloso\")\n",
    "        else:\n",
    "            print(\"non pericoloso\")"
   ]
  },
  {
   "cell_type": "code",
   "execution_count": null,
   "id": "ab464a9c",
   "metadata": {},
   "outputs": [],
   "source": []
  },
  {
   "cell_type": "code",
   "execution_count": 74,
   "id": "8f440cdd",
   "metadata": {},
   "outputs": [],
   "source": [
    "def nome(nome):\n",
    "    print(\"nome: \", nome)"
   ]
  },
  {
   "cell_type": "code",
   "execution_count": 75,
   "id": "c0a05598",
   "metadata": {},
   "outputs": [],
   "source": [
    "def massa(massa):\n",
    "    print(\"massa: \", massa)"
   ]
  },
  {
   "cell_type": "code",
   "execution_count": 76,
   "id": "83ca8291",
   "metadata": {},
   "outputs": [],
   "source": [
    "def umanoide(umanoide):\n",
    "    if(umanoide==True):\n",
    "        print(\"umanoide\")\n",
    "    else:\n",
    "        print(\"non umanoide\")"
   ]
  },
  {
   "cell_type": "code",
   "execution_count": 77,
   "id": "b300213f",
   "metadata": {},
   "outputs": [
    {
     "name": "stdout",
     "output_type": "stream",
     "text": [
      "nome:  ciao\n",
      "massa:  1888\n",
      "umanoide\n",
      "pericoloso\n"
     ]
    }
   ],
   "source": [
    "robot1 = Robot(\"ciao\", 1888, True)"
   ]
  },
  {
   "cell_type": "code",
   "execution_count": null,
   "id": "751dabe0",
   "metadata": {},
   "outputs": [],
   "source": []
  }
 ],
 "metadata": {
  "kernelspec": {
   "display_name": "Python 3 (ipykernel)",
   "language": "python",
   "name": "python3"
  },
  "language_info": {
   "codemirror_mode": {
    "name": "ipython",
    "version": 3
   },
   "file_extension": ".py",
   "mimetype": "text/x-python",
   "name": "python",
   "nbconvert_exporter": "python",
   "pygments_lexer": "ipython3",
   "version": "3.9.12"
  }
 },
 "nbformat": 4,
 "nbformat_minor": 5
}
