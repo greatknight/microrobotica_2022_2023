{
 "cells": [
  {
   "cell_type": "code",
   "execution_count": 1,
   "id": "755e52d0",
   "metadata": {},
   "outputs": [
    {
     "name": "stdout",
     "output_type": "stream",
     "text": [
      "[ 3  6  9 12]\n",
      "[1, 2, 3, 4, 1, 2, 3, 4, 1, 2, 3, 4]\n",
      "[11 12 13 14]\n"
     ]
    }
   ],
   "source": [
    "import numpy as np\n",
    "    #serve per manipolare array in maniera efficente\n",
    "\n",
    "lista = [1,2,3,4]\n",
    "array = np.array(lista)     #conversione lista in array\n",
    "print(3*array)\n",
    "print(3*lista)\n",
    "print(10+array)"
   ]
  },
  {
   "cell_type": "code",
   "execution_count": 20,
   "id": "3886af57",
   "metadata": {},
   "outputs": [
    {
     "data": {
      "text/plain": [
       "array([1, 2, 3, 4])"
      ]
     },
     "execution_count": 20,
     "metadata": {},
     "output_type": "execute_result"
    }
   ],
   "source": [
    "a = np.array(lista)\n",
    "a"
   ]
  },
  {
   "cell_type": "code",
   "execution_count": 25,
   "id": "7a7c5af8",
   "metadata": {},
   "outputs": [
    {
     "data": {
      "text/plain": [
       "array([4, 3, 2, 1])"
      ]
     },
     "execution_count": 25,
     "metadata": {},
     "output_type": "execute_result"
    }
   ],
   "source": [
    "lista = [1,2,3,4]\n",
    "b = np.array(lista[::-1])\n",
    "b"
   ]
  },
  {
   "cell_type": "code",
   "execution_count": 26,
   "id": "1ed88cbf",
   "metadata": {},
   "outputs": [
    {
     "data": {
      "text/plain": [
       "array([5, 5, 5, 5])"
      ]
     },
     "execution_count": 26,
     "metadata": {},
     "output_type": "execute_result"
    }
   ],
   "source": [
    "a+b"
   ]
  },
  {
   "cell_type": "code",
   "execution_count": 5,
   "id": "d808ab70",
   "metadata": {},
   "outputs": [
    {
     "data": {
      "text/plain": [
       "array([0, 0, 0, 0, 0, 0, 0, 0, 0, 0], dtype=int8)"
      ]
     },
     "execution_count": 5,
     "metadata": {},
     "output_type": "execute_result"
    }
   ],
   "source": [
    "zeri = np.zeros(10,dtype=np.int8)    #zeri interi a 8 bit\n",
    "zeri"
   ]
  },
  {
   "cell_type": "code",
   "execution_count": 6,
   "id": "8cbc3d8a",
   "metadata": {},
   "outputs": [
    {
     "data": {
      "text/plain": [
       "array([1., 1., 1., 1., 1., 1., 1., 1., 1., 1.])"
      ]
     },
     "execution_count": 6,
     "metadata": {},
     "output_type": "execute_result"
    }
   ],
   "source": [
    "uni = np.ones(10)\n",
    "uni"
   ]
  },
  {
   "cell_type": "code",
   "execution_count": 7,
   "id": "140281e7",
   "metadata": {},
   "outputs": [
    {
     "data": {
      "text/plain": [
       "array([0.78755177, 0.7096508 , 0.39764022, 0.25491232, 0.21859686,\n",
       "       0.95591777, 0.68777666, 0.63028367, 0.02824743, 0.67501368])"
      ]
     },
     "execution_count": 7,
     "metadata": {},
     "output_type": "execute_result"
    }
   ],
   "source": [
    "np.random.uniform(size=10)"
   ]
  },
  {
   "cell_type": "code",
   "execution_count": 23,
   "id": "9e5f15f3",
   "metadata": {},
   "outputs": [
    {
     "data": {
      "text/plain": [
       "array([3, 1, 3, 2, 1, 2, 6, 4, 4, 6])"
      ]
     },
     "execution_count": 23,
     "metadata": {},
     "output_type": "execute_result"
    }
   ],
   "source": [
    "alice = np.random.randint(1,7,10)\n",
    "alice"
   ]
  },
  {
   "cell_type": "code",
   "execution_count": 24,
   "id": "5ae7d642",
   "metadata": {},
   "outputs": [
    {
     "data": {
      "text/plain": [
       "array([2, 5, 5, 3, 2, 2, 3, 1, 2, 2])"
      ]
     },
     "execution_count": 24,
     "metadata": {},
     "output_type": "execute_result"
    }
   ],
   "source": [
    "bob = np.random.randint(1,7,10)\n",
    "bob"
   ]
  },
  {
   "cell_type": "code",
   "execution_count": 25,
   "id": "8694d52a",
   "metadata": {},
   "outputs": [],
   "source": [
    "alice_vince = alice > bob\n",
    "#print(alice.dtype)"
   ]
  },
  {
   "cell_type": "code",
   "execution_count": 26,
   "id": "23f9757c",
   "metadata": {},
   "outputs": [
    {
     "name": "stdout",
     "output_type": "stream",
     "text": [
      "Lanci di alice: [3 1 3 2 1 2 6 4 4 6]\n",
      "Lanci di bob: [2 5 5 3 2 2 3 1 2 2]\n"
     ]
    }
   ],
   "source": [
    "print(f\"Lanci di alice: {alice}\")\n",
    "print(f\"Lanci di bob: {bob}\")"
   ]
  },
  {
   "cell_type": "code",
   "execution_count": 27,
   "id": "7160803f",
   "metadata": {},
   "outputs": [
    {
     "data": {
      "text/plain": [
       "array([3, 6, 4, 4, 6])"
      ]
     },
     "execution_count": 27,
     "metadata": {},
     "output_type": "execute_result"
    }
   ],
   "source": [
    "alice[alice_vince]      #quando alice vince"
   ]
  },
  {
   "cell_type": "code",
   "execution_count": 28,
   "id": "98c29333",
   "metadata": {},
   "outputs": [
    {
     "data": {
      "text/plain": [
       "array([2, 3, 1, 2, 2])"
      ]
     },
     "execution_count": 28,
     "metadata": {},
     "output_type": "execute_result"
    }
   ],
   "source": [
    "bob[alice_vince]      #quando bob perde"
   ]
  },
  {
   "cell_type": "code",
   "execution_count": 34,
   "id": "67899fe6",
   "metadata": {},
   "outputs": [
    {
     "data": {
      "text/plain": [
       "array([ 3,  6,  9, 12, 15, 18, 21])"
      ]
     },
     "execution_count": 34,
     "metadata": {},
     "output_type": "execute_result"
    }
   ],
   "source": [
    "np.arange(3,22,3)    #va da 3 a 22 a salti di 3 (primo incluso e ultimo escluso)"
   ]
  },
  {
   "cell_type": "code",
   "execution_count": 35,
   "id": "2b15033b",
   "metadata": {},
   "outputs": [
    {
     "data": {
      "text/plain": [
       "array([ 2,  5,  8, 11, 14, 17, 20])"
      ]
     },
     "execution_count": 35,
     "metadata": {},
     "output_type": "execute_result"
    }
   ],
   "source": [
    "np.arange(2,22,3)    #va da 2 a 22 a salti di 3 (primo incluso e ultimo escluso)"
   ]
  },
  {
   "cell_type": "code",
   "execution_count": 37,
   "id": "39cab17e",
   "metadata": {},
   "outputs": [
    {
     "data": {
      "text/plain": [
       "array([0.  , 0.25, 0.5 , 0.75, 1.  , 1.25, 1.5 , 1.75, 2.  , 2.25, 2.5 ,\n",
       "       2.75, 3.  , 3.25, 3.5 , 3.75, 4.  , 4.25, 4.5 , 4.75, 5.  ])"
      ]
     },
     "execution_count": 37,
     "metadata": {},
     "output_type": "execute_result"
    }
   ],
   "source": [
    "np.linspace(0.0,5.0,21)     #in un intervallo da 0 a 5 lo divide in 21 spazi\n",
    "#una serie di numeri reali equispaziati da n parti "
   ]
  },
  {
   "cell_type": "code",
   "execution_count": 38,
   "id": "68573427",
   "metadata": {},
   "outputs": [
    {
     "data": {
      "text/plain": [
       "array([1.58128861, 0.78627917, 3.6071168 , 7.1504608 , 8.85580379])"
      ]
     },
     "execution_count": 38,
     "metadata": {},
     "output_type": "execute_result"
    }
   ],
   "source": [
    "np.random.uniform(0., 10.,5)      #numero pseudocasuale tra 0 e 10"
   ]
  },
  {
   "cell_type": "code",
   "execution_count": 41,
   "id": "f125c1e0",
   "metadata": {},
   "outputs": [
    {
     "data": {
      "text/plain": [
       "array(['Croce', 'Croce', 'Croce', 'Testa', 'Croce', 'Testa', 'Testa',\n",
       "       'Croce', 'Testa', 'Croce'], dtype='<U5')"
      ]
     },
     "execution_count": 41,
     "metadata": {},
     "output_type": "execute_result"
    }
   ],
   "source": [
    "np.random.choice([\"Testa\", \"Croce\"], 10)    #sceglie tra testa e croce 10 volte"
   ]
  },
  {
   "cell_type": "code",
   "execution_count": 48,
   "id": "8dfb43db",
   "metadata": {},
   "outputs": [
    {
     "data": {
      "text/plain": [
       "array(['Croce', 'Croce', 'Croce', 'Croce', 'Testa', 'Croce', 'Croce',\n",
       "       'Testa', 'Croce', 'Croce'], dtype='<U5')"
      ]
     },
     "execution_count": 48,
     "metadata": {},
     "output_type": "execute_result"
    }
   ],
   "source": [
    "bro = np.random.choice([\"Croce\", \"Testa\"], 10, p=[0.7, 0.3])\n",
    "#sceglie tra testa e croce 10 voltecon una probabilità di testa pari a 0.3\n",
    "bro"
   ]
  },
  {
   "cell_type": "code",
   "execution_count": 49,
   "id": "82121027",
   "metadata": {},
   "outputs": [
    {
     "name": "stdout",
     "output_type": "stream",
     "text": [
      "[5 8] [ 1  2  3  4  6  7  9 10]\n"
     ]
    }
   ],
   "source": [
    "testaN = np.array([i for i in range(0,10) if bro[i]==\"Testa\"])\n",
    "croceN = np.array([i for i in range(0,10) if bro[i]==\"Croce\"])\n",
    "print(testaN+1, croceN+1)"
   ]
  },
  {
   "cell_type": "code",
   "execution_count": 49,
   "id": "37359fb3",
   "metadata": {},
   "outputs": [
    {
     "data": {
      "text/plain": [
       "array([ 1.70640122,  1.73958883,  1.71264897, -0.09739592,  1.02363737,\n",
       "        0.07731855,  1.39748183,  0.2216111 ,  0.39182318, -0.54297165])"
      ]
     },
     "execution_count": 49,
     "metadata": {},
     "output_type": "execute_result"
    }
   ],
   "source": [
    "np.random.normal(1.,1.,10)"
   ]
  },
  {
   "cell_type": "code",
   "execution_count": 1,
   "id": "78283270",
   "metadata": {},
   "outputs": [],
   "source": [
    "import numpy as np"
   ]
  },
  {
   "cell_type": "code",
   "execution_count": 27,
   "id": "38c0438e",
   "metadata": {},
   "outputs": [
    {
     "name": "stdout",
     "output_type": "stream",
     "text": [
      "2.17 µs ± 421 ns per loop (mean ± std. dev. of 7 runs, 1,000,000 loops each)\n"
     ]
    }
   ],
   "source": [
    "%%timeit\n",
    "n = 10\n",
    "l = np.array([i%2 for i in range(0,n)])\n",
    "l"
   ]
  },
  {
   "cell_type": "code",
   "execution_count": 28,
   "id": "e87732be",
   "metadata": {},
   "outputs": [
    {
     "name": "stdout",
     "output_type": "stream",
     "text": [
      "807 ns ± 25.3 ns per loop (mean ± std. dev. of 7 runs, 1,000,000 loops each)\n"
     ]
    }
   ],
   "source": [
    "%%timeit\n",
    "n = 10\n",
    "l = [i%2 for i in range(0,n)]\n",
    "l"
   ]
  },
  {
   "cell_type": "code",
   "execution_count": 66,
   "id": "210cdfca",
   "metadata": {},
   "outputs": [
    {
     "data": {
      "text/plain": [
       "array([0, 1, 0, 1, 0, 1, 0, 1, 0, 1], dtype=int8)"
      ]
     },
     "execution_count": 66,
     "metadata": {},
     "output_type": "execute_result"
    }
   ],
   "source": [
    "n = 10\n",
    "array = np.ones(n, dtype=np.int8)\n",
    "array[0:10:2] = 0\n",
    "array"
   ]
  },
  {
   "cell_type": "code",
   "execution_count": null,
   "id": "2f878ef1",
   "metadata": {},
   "outputs": [],
   "source": []
  }
 ],
 "metadata": {
  "kernelspec": {
   "display_name": "Python 3 (ipykernel)",
   "language": "python",
   "name": "python3"
  },
  "language_info": {
   "codemirror_mode": {
    "name": "ipython",
    "version": 3
   },
   "file_extension": ".py",
   "mimetype": "text/x-python",
   "name": "python",
   "nbconvert_exporter": "python",
   "pygments_lexer": "ipython3",
   "version": "3.9.12"
  }
 },
 "nbformat": 4,
 "nbformat_minor": 5
}
