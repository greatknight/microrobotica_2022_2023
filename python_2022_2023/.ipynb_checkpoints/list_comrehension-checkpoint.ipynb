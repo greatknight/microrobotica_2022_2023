{
 "cells": [
  {
   "cell_type": "code",
   "execution_count": 21,
   "id": "daa90af2",
   "metadata": {},
   "outputs": [
    {
     "name": "stdout",
     "output_type": "stream",
     "text": [
      "Inserisci un numero: 29\n",
      "[1, 2, 4, 8, 16]\n"
     ]
    }
   ],
   "source": [
    "num = input(\"Inserisci un numero: \")\n",
    "n = int(num)\n",
    "l = [2**i for i in range(0,n) if 2**i<n]\n",
    "print(l)"
   ]
  },
  {
   "cell_type": "code",
   "execution_count": 35,
   "id": "9e7b4cb1",
   "metadata": {},
   "outputs": [
    {
     "name": "stdout",
     "output_type": "stream",
     "text": [
      "[1, 9, 25, 49, 81, 121, 169]\n"
     ]
    }
   ],
   "source": [
    "l = [i*i for i in range(0,200) if i*i<200 and i%2!=0]\n",
    "print(l)"
   ]
  },
  {
   "cell_type": "code",
   "execution_count": 67,
   "id": "3bd057a4",
   "metadata": {},
   "outputs": [
    {
     "name": "stdout",
     "output_type": "stream",
     "text": [
      "[1, 2, 3, 4, 5, 6, 7, 8, 9, 10]\n",
      "\n",
      "\n",
      "[2, 4, 6, 8, 10, 12, 14, 16, 18, 20]\n",
      "\n",
      "\n",
      "[3, 6, 9, 12, 15, 18, 21, 24, 27, 30]\n",
      "\n",
      "\n",
      "[4, 8, 12, 16, 20, 24, 28, 32, 36, 40]\n",
      "\n",
      "\n",
      "[5, 10, 15, 20, 25, 30, 35, 40, 45, 50]\n",
      "\n",
      "\n",
      "[6, 12, 18, 24, 30, 36, 42, 48, 54, 60]\n",
      "\n",
      "\n",
      "[7, 14, 21, 28, 35, 42, 49, 56, 63, 70]\n",
      "\n",
      "\n",
      "[8, 16, 24, 32, 40, 48, 56, 64, 72, 80]\n",
      "\n",
      "\n",
      "[9, 18, 27, 36, 45, 54, 63, 72, 81, 90]\n",
      "\n",
      "\n",
      "[10, 20, 30, 40, 50, 60, 70, 80, 90, 100]\n",
      "\n",
      "\n"
     ]
    }
   ],
   "source": [
    "l = [[y*i for y in range(1,11)] for i in range(1, 11)]\n",
    "for z in range(10):\n",
    "    print(l[z])\n",
    "    print('\\n')"
   ]
  },
  {
   "cell_type": "code",
   "execution_count": null,
   "id": "b1b50652",
   "metadata": {},
   "outputs": [],
   "source": []
  },
  {
   "cell_type": "code",
   "execution_count": null,
   "id": "879d2d87",
   "metadata": {},
   "outputs": [],
   "source": []
  }
 ],
 "metadata": {
  "kernelspec": {
   "display_name": "Python 3 (ipykernel)",
   "language": "python",
   "name": "python3"
  },
  "language_info": {
   "codemirror_mode": {
    "name": "ipython",
    "version": 3
   },
   "file_extension": ".py",
   "mimetype": "text/x-python",
   "name": "python",
   "nbconvert_exporter": "python",
   "pygments_lexer": "ipython3",
   "version": "3.9.12"
  }
 },
 "nbformat": 4,
 "nbformat_minor": 5
}
