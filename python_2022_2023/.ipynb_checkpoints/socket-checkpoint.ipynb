{
 "cells": [
  {
   "cell_type": "code",
   "execution_count": 3,
   "id": "e2ec2ec5",
   "metadata": {},
   "outputs": [],
   "source": [
    "from socket import AF_INET, SOCK_STREAM, socket"
   ]
  },
  {
   "cell_type": "code",
   "execution_count": 5,
   "id": "0baae06d",
   "metadata": {},
   "outputs": [],
   "source": [
    "def run_server(self):\n",
    "    with socket(AF_INET, SOCK_STREAM) as s:\n",
    "        s.bind((\"0.0.0.0\", 5000))\n",
    "        s.listen()\n",
    "        client, clientAddress = s.accept()\n",
    "        data = client.recv()\n",
    "        print(data)"
   ]
  },
  {
   "cell_type": "code",
   "execution_count": 6,
   "id": "8fde9e95",
   "metadata": {},
   "outputs": [],
   "source": [
    "def run_client(receiver):\n",
    "    with socket(AF_INET,SOCK_STREAM) as s:\n",
    "        s.connect(receiver)\n",
    "        s.send(b\"avanti;3\")"
   ]
  }
 ],
 "metadata": {
  "kernelspec": {
   "display_name": "Python 3 (ipykernel)",
   "language": "python",
   "name": "python3"
  },
  "language_info": {
   "codemirror_mode": {
    "name": "ipython",
    "version": 3
   },
   "file_extension": ".py",
   "mimetype": "text/x-python",
   "name": "python",
   "nbconvert_exporter": "python",
   "pygments_lexer": "ipython3",
   "version": "3.9.12"
  }
 },
 "nbformat": 4,
 "nbformat_minor": 5
}
