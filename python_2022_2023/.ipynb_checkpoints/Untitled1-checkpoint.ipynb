{
 "cells": [
  {
   "cell_type": "markdown",
   "id": "31f9afbd",
   "metadata": {},
   "source": [
    "# Shortcut\n",
    "\n",
    "## Le scorciatoie utiliin command mode\n",
    "Per poterle usare entrre in command mode con `ESC`  (contorno blu).\n",
    "\n",
    "* `INVIO` entra in *editing mode*\n",
    "* `a` inserisce una nuova cella sopra (above) la corrente\n",
    "* `b` inserisce una nuova cella sotto (below) la corrente\n",
    "* `CTRL+INVIO` esegue la cella corrente\n",
    "\n",
    "## Le scorciatoie utili in editing mode\n",
    "### Le seguenti sono utili nelle celle di tipo *Code*\n",
    "* `SHIFT+TAB` su un oggetto del codice mostra la documentazione (Docstring)\n",
    "\n",
    "## Altre scorciatoie utili\n",
    "\n",
    "|Modalità|Menù|Shortcut|Azione|\n",
    "| :- | :-: | :-: | :- |\n",
    "|indifferente|File|`CTRL+S`|Salva il documento|\n",
    "|Command mode|Kernel|`i i`|Interrompe l'esecuzione|\n",
    "|Command mode|Kernel|`0 0`|Interrompe l'esecuzione|\n",
    "|Command mode|Kernel|`h`|Visualizza l'elenco delle shortcut|"
   ]
  },
  {
   "cell_type": "code",
   "execution_count": null,
   "id": "a03197b4",
   "metadata": {},
   "outputs": [],
   "source": []
  }
 ],
 "metadata": {
  "kernelspec": {
   "display_name": "Python 3 (ipykernel)",
   "language": "python",
   "name": "python3"
  },
  "language_info": {
   "codemirror_mode": {
    "name": "ipython",
    "version": 3
   },
   "file_extension": ".py",
   "mimetype": "text/x-python",
   "name": "python",
   "nbconvert_exporter": "python",
   "pygments_lexer": "ipython3",
   "version": "3.9.12"
  }
 },
 "nbformat": 4,
 "nbformat_minor": 5
}
