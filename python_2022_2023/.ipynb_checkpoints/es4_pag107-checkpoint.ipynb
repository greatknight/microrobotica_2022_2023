{
 "cells": [
  {
   "cell_type": "markdown",
   "id": "35429ba4",
   "metadata": {},
   "source": [
    "#### 1000 classi da 25 alunni ciascuno;\n",
    "#### ogni possibile data di nascita è un numero tra 1 e 365;"
   ]
  },
  {
   "cell_type": "code",
   "execution_count": 2,
   "id": "5b501614",
   "metadata": {},
   "outputs": [],
   "source": [
    "import numpy as np"
   ]
  },
  {
   "cell_type": "code",
   "execution_count": 41,
   "id": "968fef5f",
   "metadata": {},
   "outputs": [
    {
     "data": {
      "text/plain": [
       "array([[ 14, 124, 226, ..., 187, 360, 287],\n",
       "       [ 20, 246, 195, ...,  47,  44, 108],\n",
       "       [ 32, 203, 337, ..., 154, 304, 249],\n",
       "       ...,\n",
       "       [ 58, 106,  67, ..., 146, 132, 156],\n",
       "       [165, 166, 302, ..., 362, 340,  50],\n",
       "       [356, 101,  64, ..., 164, 207, 273]])"
      ]
     },
     "execution_count": 41,
     "metadata": {},
     "output_type": "execute_result"
    }
   ],
   "source": [
    "n_alunni = 25\n",
    "classe = np.random.randint(1,366,(1000,n_alunni))\n",
    "classe"
   ]
  },
  {
   "cell_type": "code",
   "execution_count": 42,
   "id": "0623c400",
   "metadata": {},
   "outputs": [
    {
     "data": {
      "text/plain": [
       "554"
      ]
     },
     "execution_count": 42,
     "metadata": {},
     "output_type": "execute_result"
    }
   ],
   "source": [
    "classi_con_almeno_un_doppione = 0\n",
    "for c in classe:\n",
    "    if(np.unique(c).shape[0]<n_alunni):\n",
    "        classi_con_almeno_un_doppione = classi_con_almeno_un_doppione +1\n",
    "classi_con_almeno_un_doppione"
   ]
  },
  {
   "cell_type": "markdown",
   "id": "39a21220",
   "metadata": {},
   "source": [
    "### ES 3\n",
    "#### Simulare i lanci di una moneta (10000 partite --> 1000 lanci): in quante partite sono uscite 500 volte croce"
   ]
  },
  {
   "cell_type": "code",
   "execution_count": 44,
   "id": "d278c60d",
   "metadata": {},
   "outputs": [],
   "source": [
    "import numpy as np"
   ]
  },
  {
   "cell_type": "code",
   "execution_count": 101,
   "id": "ba85cbb6",
   "metadata": {},
   "outputs": [
    {
     "data": {
      "text/plain": [
       "array([[0, 0, 0, ..., 1, 1, 0],\n",
       "       [1, 0, 0, ..., 1, 0, 0],\n",
       "       [0, 1, 0, ..., 0, 1, 0],\n",
       "       ...,\n",
       "       [0, 0, 1, ..., 0, 1, 0],\n",
       "       [0, 1, 1, ..., 1, 1, 0],\n",
       "       [0, 1, 0, ..., 1, 1, 0]])"
      ]
     },
     "execution_count": 101,
     "metadata": {},
     "output_type": "execute_result"
    }
   ],
   "source": [
    "n_partite = 10000\n",
    "n_lanci = 1000\n",
    "partite = np.random.randint(0,2,(n_partite,n_lanci))    #0 = croce, #1 = testa\n",
    "partite"
   ]
  },
  {
   "cell_type": "code",
   "execution_count": 103,
   "id": "64739e3e",
   "metadata": {},
   "outputs": [
    {
     "name": "stdout",
     "output_type": "stream",
     "text": [
      "552\n",
      "551\n",
      "558\n",
      "555\n",
      "560\n",
      "553\n",
      "551\n"
     ]
    },
    {
     "data": {
      "text/plain": [
       "7"
      ]
     },
     "execution_count": 103,
     "metadata": {},
     "output_type": "execute_result"
    }
   ],
   "source": [
    "croce = 0\n",
    "for partita in partite:\n",
    "    if(np.count_nonzero(partita)>(0.55*n_lanci)):\n",
    "        croce = croce + 1\n",
    "        print(np.count_nonzero(partita))\n",
    "croce"
   ]
  },
  {
   "cell_type": "code",
   "execution_count": 104,
   "id": "853076b4",
   "metadata": {},
   "outputs": [],
   "source": [
    "np.roll?"
   ]
  }
 ],
 "metadata": {
  "kernelspec": {
   "display_name": "Python 3 (ipykernel)",
   "language": "python",
   "name": "python3"
  },
  "language_info": {
   "codemirror_mode": {
    "name": "ipython",
    "version": 3
   },
   "file_extension": ".py",
   "mimetype": "text/x-python",
   "name": "python",
   "nbconvert_exporter": "python",
   "pygments_lexer": "ipython3",
   "version": "3.9.12"
  }
 },
 "nbformat": 4,
 "nbformat_minor": 5
}
