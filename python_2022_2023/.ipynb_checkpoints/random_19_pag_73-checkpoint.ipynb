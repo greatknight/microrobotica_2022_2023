{
 "cells": [
  {
   "cell_type": "code",
   "execution_count": 16,
   "id": "c5286be2",
   "metadata": {},
   "outputs": [
    {
     "ename": "TypeError",
     "evalue": "'_csv.writer' object is not an iterator",
     "output_type": "error",
     "traceback": [
      "\u001b[1;31m---------------------------------------------------------------------------\u001b[0m",
      "\u001b[1;31mTypeError\u001b[0m                                 Traceback (most recent call last)",
      "Input \u001b[1;32mIn [16]\u001b[0m, in \u001b[0;36m<cell line: 7>\u001b[1;34m()\u001b[0m\n\u001b[0;32m      8\u001b[0m scrittore \u001b[38;5;241m=\u001b[39m csv\u001b[38;5;241m.\u001b[39mwriter(filecsv, delimiter\u001b[38;5;241m=\u001b[39m\u001b[38;5;124m\"\u001b[39m\u001b[38;5;124m,\u001b[39m\u001b[38;5;124m\"\u001b[39m)\n\u001b[0;32m      9\u001b[0m scrittore\u001b[38;5;241m.\u001b[39mwriterows(\u001b[38;5;28mmap\u001b[39m(\u001b[38;5;28;01mlambda\u001b[39;00m x: [x], alice))\n\u001b[1;32m---> 10\u001b[0m \u001b[38;5;28;43mnext\u001b[39;49m\u001b[43m(\u001b[49m\u001b[43mscrittore\u001b[49m\u001b[43m)\u001b[49m\n\u001b[0;32m     11\u001b[0m scrittore\u001b[38;5;241m.\u001b[39mwriterows(\u001b[38;5;28mmap\u001b[39m(\u001b[38;5;28;01mlambda\u001b[39;00m x: [x], bob))\n",
      "\u001b[1;31mTypeError\u001b[0m: '_csv.writer' object is not an iterator"
     ]
    }
   ],
   "source": [
    "from random import *\n",
    "import csv\n",
    "\n",
    "alice = [randint(1,6) for _ in range(0,10)]\n",
    "bob = [randint(1,6) for _ in range(0,10)]\n",
    "\n",
    "with open(\"lanci.csv\", \"w\") as filecsv:\n",
    "    scrittore = csv.writer(filecsv, delimiter=\",\")\n",
    "    scrittore.writerows(map(lambda x: [x], alice))\n",
    "    scrittore.writerows(map(lambda x: [x], bob))"
   ]
  },
  {
   "cell_type": "code",
   "execution_count": null,
   "id": "da3f14cb",
   "metadata": {},
   "outputs": [],
   "source": []
  },
  {
   "cell_type": "code",
   "execution_count": null,
   "id": "a2084bb4",
   "metadata": {},
   "outputs": [],
   "source": []
  }
 ],
 "metadata": {
  "kernelspec": {
   "display_name": "Python 3 (ipykernel)",
   "language": "python",
   "name": "python3"
  },
  "language_info": {
   "codemirror_mode": {
    "name": "ipython",
    "version": 3
   },
   "file_extension": ".py",
   "mimetype": "text/x-python",
   "name": "python",
   "nbconvert_exporter": "python",
   "pygments_lexer": "ipython3",
   "version": "3.9.12"
  }
 },
 "nbformat": 4,
 "nbformat_minor": 5
}
