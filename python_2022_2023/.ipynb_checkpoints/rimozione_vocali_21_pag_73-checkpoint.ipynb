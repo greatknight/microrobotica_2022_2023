{
 "cells": [
  {
   "cell_type": "code",
   "execution_count": 2,
   "id": "bb70fdb8",
   "metadata": {},
   "outputs": [
    {
     "name": "stdout",
     "output_type": "stream",
     "text": [
      "Inserisci una frase: buonasera popolo di striscia\n",
      "bnsr ppl d strsc\n"
     ]
    }
   ],
   "source": [
    "string = input(\"Inserisci una frase: \")\n",
    "\n",
    "s = [i for i in string if i != \"a\" and i != \"e\" and i != \"i\" and i != \"o\" and i != \"u\" and i != \"A\" and i != \"E\" and i != \"I\" and i != \"O\" and i != \"U\"]\n",
    "sFin = \"\".join(s)\n",
    "print(sFin)"
   ]
  },
  {
   "cell_type": "code",
   "execution_count": 9,
   "id": "a48cb324",
   "metadata": {},
   "outputs": [
    {
     "name": "stdout",
     "output_type": "stream",
     "text": [
      "Inserisci una frase: BuonaseraaaaAAAAAAAAA\n",
      "Bnsr\n"
     ]
    }
   ],
   "source": [
    "string = input(\"Inserisci una frase: \")\n",
    "vocale = [\"a\", \"e\", \"i\", \"o\", \"u\", \"A\", \"E\", \"I\", \"O\", \"U\"]\n",
    "lista = [lettera for lettera in string if(lettera not in vocale)]\n",
    "s = \"\".join(lista)\n",
    "print(s)"
   ]
  },
  {
   "cell_type": "code",
   "execution_count": 87,
   "id": "ed512bfb",
   "metadata": {},
   "outputs": [],
   "source": [
    "var_lettura = open(\"sei_personaggi_in_cerca_dautore_Luigi_Pirandello.txt\", \"r\")\n",
    "righe = var_lettura.readlines()\n",
    "var_lettura.close()\n",
    "\n",
    "dic={}\n",
    "y = 0\n",
    "\n",
    "for elemento in righe:\n",
    "    parole = elemento[:-1].split(\" \")\n",
    "    for i in parole:\n",
    "        par = i[:-1].split(\" \")\n",
    "        dic[i] = y\n",
    "        y = y + 1\n",
    "        \n",
    "#print(dic)"
   ]
  },
  {
   "cell_type": "code",
   "execution_count": null,
   "id": "ecb938f2",
   "metadata": {},
   "outputs": [],
   "source": []
  },
  {
   "cell_type": "code",
   "execution_count": null,
   "id": "aa63aa26",
   "metadata": {},
   "outputs": [],
   "source": []
  }
 ],
 "metadata": {
  "kernelspec": {
   "display_name": "Python 3 (ipykernel)",
   "language": "python",
   "name": "python3"
  },
  "language_info": {
   "codemirror_mode": {
    "name": "ipython",
    "version": 3
   },
   "file_extension": ".py",
   "mimetype": "text/x-python",
   "name": "python",
   "nbconvert_exporter": "python",
   "pygments_lexer": "ipython3",
   "version": "3.9.12"
  }
 },
 "nbformat": 4,
 "nbformat_minor": 5
}
