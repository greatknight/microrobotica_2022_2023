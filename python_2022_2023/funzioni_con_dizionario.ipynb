{
 "cells": [
  {
   "cell_type": "code",
   "execution_count": 6,
   "id": "111b7eed",
   "metadata": {},
   "outputs": [
    {
     "name": "stdout",
     "output_type": "stream",
     "text": [
      "dimmi l'operazione che vuoi fare (0,1,2,3): 0\n",
      "inserisci un numero: 3\n",
      "inserisci un numero: 4\n"
     ]
    },
    {
     "data": {
      "text/plain": [
       "7"
      ]
     },
     "execution_count": 6,
     "metadata": {},
     "output_type": "execute_result"
    }
   ],
   "source": [
    "operazione = input(\"dimmi l'operazione che vuoi fare (0,1,2,3): \")\n",
    "operazione = int(operazione)\n",
    "a = input(\"inserisci un numero: \")\n",
    "b = input(\"inserisci un numero: \")\n",
    "\n",
    "a = int(a)\n",
    "b = int(b)\n",
    "\n",
    "diz = {0:somma, 1:sottrazione, 2:moltiplicazione, 3:divisione}\n",
    "\n",
    "diz[operazione](a,b)\n",
    "#x = input(\"nf\")"
   ]
  },
  {
   "cell_type": "code",
   "execution_count": 2,
   "id": "d7badac6",
   "metadata": {},
   "outputs": [],
   "source": [
    "def somma(a,b):\n",
    "    return a + b"
   ]
  },
  {
   "cell_type": "code",
   "execution_count": 3,
   "id": "b33b425a",
   "metadata": {},
   "outputs": [],
   "source": [
    "def sottrazione(a,b):\n",
    "    return a - b"
   ]
  },
  {
   "cell_type": "code",
   "execution_count": 4,
   "id": "d0e54dc2",
   "metadata": {},
   "outputs": [],
   "source": [
    "def moltiplicazione(a,b):\n",
    "    return a * b"
   ]
  },
  {
   "cell_type": "code",
   "execution_count": 5,
   "id": "c22afd1c",
   "metadata": {},
   "outputs": [],
   "source": [
    "def divisione(a,b):\n",
    "    return a / b"
   ]
  },
  {
   "cell_type": "code",
   "execution_count": null,
   "id": "b036b045",
   "metadata": {},
   "outputs": [],
   "source": []
  }
 ],
 "metadata": {
  "kernelspec": {
   "display_name": "Python 3 (ipykernel)",
   "language": "python",
   "name": "python3"
  },
  "language_info": {
   "codemirror_mode": {
    "name": "ipython",
    "version": 3
   },
   "file_extension": ".py",
   "mimetype": "text/x-python",
   "name": "python",
   "nbconvert_exporter": "python",
   "pygments_lexer": "ipython3",
   "version": "3.9.12"
  }
 },
 "nbformat": 4,
 "nbformat_minor": 5
}
