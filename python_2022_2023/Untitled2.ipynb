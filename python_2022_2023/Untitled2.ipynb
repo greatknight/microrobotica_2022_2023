{
 "cells": [
  {
   "cell_type": "code",
   "execution_count": 16,
   "id": "40de18ca",
   "metadata": {},
   "outputs": [
    {
     "name": "stdout",
     "output_type": "stream",
     "text": [
      "[ 3  6  9 12]\n",
      "[1, 2, 3, 4, 1, 2, 3, 4, 1, 2, 3, 4]\n",
      "[11 12 13 14]\n"
     ]
    }
   ],
   "source": [
    "import numpy as np\n",
    "    #serve per manipolare array in maniera efficente\n",
    "\n",
    "lista = [1,2,3,4]\n",
    "array = np.array(lista)     #conversione lista in array\n",
    "print(3*array)\n",
    "print(3*lista)\n",
    "print(10+array)"
   ]
  },
  {
   "cell_type": "code",
   "execution_count": 17,
   "id": "496dcc4e",
   "metadata": {},
   "outputs": [
    {
     "data": {
      "text/plain": [
       "array([1, 2, 3, 4])"
      ]
     },
     "execution_count": 17,
     "metadata": {},
     "output_type": "execute_result"
    }
   ],
   "source": [
    "a = array.copy()\n",
    "a"
   ]
  },
  {
   "cell_type": "code",
   "execution_count": 18,
   "id": "c6f6bfcb",
   "metadata": {},
   "outputs": [
    {
     "data": {
      "text/plain": [
       "array([4, 3, 2, 1])"
      ]
     },
     "execution_count": 18,
     "metadata": {},
     "output_type": "execute_result"
    }
   ],
   "source": [
    "b = np.array(lista[::-1])\n",
    "b"
   ]
  },
  {
   "cell_type": "code",
   "execution_count": 24,
   "id": "738b3668",
   "metadata": {},
   "outputs": [
    {
     "data": {
      "text/plain": [
       "array([5, 5, 5, 5])"
      ]
     },
     "execution_count": 24,
     "metadata": {},
     "output_type": "execute_result"
    }
   ],
   "source": [
    "a+b"
   ]
  },
  {
   "cell_type": "code",
   "execution_count": 28,
   "id": "92e0d147",
   "metadata": {},
   "outputs": [
    {
     "data": {
      "text/plain": [
       "array([0, 0, 0, 0, 0, 0, 0, 0, 0, 0], dtype=int8)"
      ]
     },
     "execution_count": 28,
     "metadata": {},
     "output_type": "execute_result"
    }
   ],
   "source": [
    "zeri = np.zeros(10,dtype=np.int8)    #zeri interi a 8 bit\n",
    "zeri"
   ]
  },
  {
   "cell_type": "code",
   "execution_count": 29,
   "id": "e811e6ac",
   "metadata": {},
   "outputs": [
    {
     "data": {
      "text/plain": [
       "array([1., 1., 1., 1., 1., 1., 1., 1., 1., 1.])"
      ]
     },
     "execution_count": 29,
     "metadata": {},
     "output_type": "execute_result"
    }
   ],
   "source": [
    "uni = np.ones(10)\n",
    "uni"
   ]
  },
  {
   "cell_type": "code",
   "execution_count": 82,
   "id": "78afafcc",
   "metadata": {},
   "outputs": [
    {
     "data": {
      "text/plain": [
       "array([1.01304448, 1.76675022, 1.4620033 , 1.39515865, 1.12877574,\n",
       "       1.39440758, 1.55477125, 1.38003473, 1.99105896, 1.7921882 ])"
      ]
     },
     "execution_count": 82,
     "metadata": {},
     "output_type": "execute_result"
    }
   ],
   "source": [
    "np.random.uniform(1,2,10)"
   ]
  },
  {
   "cell_type": "code",
   "execution_count": null,
   "id": "a6b0fcde",
   "metadata": {},
   "outputs": [],
   "source": []
  }
 ],
 "metadata": {
  "kernelspec": {
   "display_name": "Python 3 (ipykernel)",
   "language": "python",
   "name": "python3"
  },
  "language_info": {
   "codemirror_mode": {
    "name": "ipython",
    "version": 3
   },
   "file_extension": ".py",
   "mimetype": "text/x-python",
   "name": "python",
   "nbconvert_exporter": "python",
   "pygments_lexer": "ipython3",
   "version": "3.9.12"
  }
 },
 "nbformat": 4,
 "nbformat_minor": 5
}
