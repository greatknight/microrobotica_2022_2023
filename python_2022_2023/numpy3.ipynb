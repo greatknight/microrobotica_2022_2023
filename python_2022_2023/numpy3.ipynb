{
 "cells": [
  {
   "cell_type": "code",
   "execution_count": 1,
   "id": "ffe1abda",
   "metadata": {},
   "outputs": [],
   "source": [
    "import numpy as np"
   ]
  },
  {
   "cell_type": "markdown",
   "id": "7ecf6f30",
   "metadata": {},
   "source": [
    "## BROADCAST\n",
    "\n",
    "### fare operazioni matematiche tra array *di stesse dimensioni*"
   ]
  },
  {
   "cell_type": "code",
   "execution_count": 5,
   "id": "88d15080",
   "metadata": {},
   "outputs": [
    {
     "data": {
      "text/plain": [
       "array([ 2,  4,  6,  8, 10])"
      ]
     },
     "execution_count": 5,
     "metadata": {},
     "output_type": "execute_result"
    }
   ],
   "source": [
    "array1 = np.array([1,2,3,4,5])\n",
    "array1 * 2"
   ]
  },
  {
   "cell_type": "code",
   "execution_count": 6,
   "id": "1327d336",
   "metadata": {},
   "outputs": [
    {
     "data": {
      "text/plain": [
       "array([  2.71828183,   7.3890561 ,  20.08553692,  54.59815003,\n",
       "       148.4131591 ])"
      ]
     },
     "execution_count": 6,
     "metadata": {},
     "output_type": "execute_result"
    }
   ],
   "source": [
    "np.exp(array1)    #ha elevato \"e\" per ciascun membro dell'array (e^1, e^2, e^3,...)"
   ]
  },
  {
   "cell_type": "code",
   "execution_count": 8,
   "id": "135a07b9",
   "metadata": {},
   "outputs": [
    {
     "data": {
      "text/plain": [
       "array([1.        , 1.41421356, 1.73205081, 2.        , 2.23606798])"
      ]
     },
     "execution_count": 8,
     "metadata": {},
     "output_type": "execute_result"
    }
   ],
   "source": [
    "np.sqrt(array1)"
   ]
  },
  {
   "cell_type": "code",
   "execution_count": 9,
   "id": "192dd4ac",
   "metadata": {},
   "outputs": [
    {
     "data": {
      "text/plain": [
       "array([-1, -2, -3, -4, -5])"
      ]
     },
     "execution_count": 9,
     "metadata": {},
     "output_type": "execute_result"
    }
   ],
   "source": [
    "array2 = np.array([-1,-2,-3,-4,-5])\n",
    "array2"
   ]
  },
  {
   "cell_type": "code",
   "execution_count": 11,
   "id": "f2a37a88",
   "metadata": {},
   "outputs": [
    {
     "data": {
      "text/plain": [
       "array([ -1,  -4,  -9, -16, -25])"
      ]
     },
     "execution_count": 11,
     "metadata": {},
     "output_type": "execute_result"
    }
   ],
   "source": [
    "array1 * array2"
   ]
  },
  {
   "cell_type": "code",
   "execution_count": 12,
   "id": "4d94ed25",
   "metadata": {},
   "outputs": [
    {
     "data": {
      "text/plain": [
       "array([0, 0, 0, 0, 0])"
      ]
     },
     "execution_count": 12,
     "metadata": {},
     "output_type": "execute_result"
    }
   ],
   "source": [
    "array1 + array2"
   ]
  },
  {
   "cell_type": "code",
   "execution_count": 18,
   "id": "5ab085f6",
   "metadata": {},
   "outputs": [
    {
     "data": {
      "text/plain": [
       "array([[0.78394456, 0.85006976, 0.06563672, 0.85537163, 0.99370784],\n",
       "       [0.79073989, 0.14035838, 0.2386784 , 0.41615367, 0.98005121],\n",
       "       [0.71230178, 0.75461153, 0.26182831, 0.86636747, 0.58519063],\n",
       "       [0.58565055, 0.51511799, 0.56542451, 0.82693127, 0.39027079],\n",
       "       [0.77255086, 0.24419654, 0.32537626, 0.29066956, 0.78334622]])"
      ]
     },
     "execution_count": 18,
     "metadata": {},
     "output_type": "execute_result"
    }
   ],
   "source": [
    "matrice1 = np.ones((5,5))\n",
    "matrice2 = np.random.uniform(0,1,(5,5))\n",
    "matrice2"
   ]
  },
  {
   "cell_type": "code",
   "execution_count": 19,
   "id": "bb2a4cb5",
   "metadata": {},
   "outputs": [
    {
     "data": {
      "text/plain": [
       "array([[1.78394456, 1.85006976, 1.06563672, 1.85537163, 1.99370784],\n",
       "       [1.79073989, 1.14035838, 1.2386784 , 1.41615367, 1.98005121],\n",
       "       [1.71230178, 1.75461153, 1.26182831, 1.86636747, 1.58519063],\n",
       "       [1.58565055, 1.51511799, 1.56542451, 1.82693127, 1.39027079],\n",
       "       [1.77255086, 1.24419654, 1.32537626, 1.29066956, 1.78334622]])"
      ]
     },
     "execution_count": 19,
     "metadata": {},
     "output_type": "execute_result"
    }
   ],
   "source": [
    "matrice1 + matrice2"
   ]
  },
  {
   "cell_type": "code",
   "execution_count": 20,
   "id": "1e422bb2",
   "metadata": {},
   "outputs": [
    {
     "data": {
      "text/plain": [
       "array([[0.78394456, 0.85006976, 0.06563672, 0.85537163, 0.99370784],\n",
       "       [0.79073989, 0.14035838, 0.2386784 , 0.41615367, 0.98005121],\n",
       "       [0.71230178, 0.75461153, 0.26182831, 0.86636747, 0.58519063],\n",
       "       [0.58565055, 0.51511799, 0.56542451, 0.82693127, 0.39027079],\n",
       "       [0.77255086, 0.24419654, 0.32537626, 0.29066956, 0.78334622]])"
      ]
     },
     "execution_count": 20,
     "metadata": {},
     "output_type": "execute_result"
    }
   ],
   "source": [
    "matrice1 * matrice2"
   ]
  },
  {
   "cell_type": "code",
   "execution_count": 25,
   "id": "cb7dd869",
   "metadata": {},
   "outputs": [
    {
     "data": {
      "text/plain": [
       "array([[0.59744711],\n",
       "       [0.3614434 ],\n",
       "       [0.78192408],\n",
       "       [0.26456425],\n",
       "       [0.07249806]])"
      ]
     },
     "execution_count": 25,
     "metadata": {},
     "output_type": "execute_result"
    }
   ],
   "source": [
    "matrice1 = np.ones((5,5))\n",
    "matrice2 = np.random.uniform(0,1,(5,1))\n",
    "matrice2"
   ]
  },
  {
   "cell_type": "code",
   "execution_count": 26,
   "id": "c0f8d945",
   "metadata": {},
   "outputs": [
    {
     "data": {
      "text/plain": [
       "array([[1.59744711, 1.59744711, 1.59744711, 1.59744711, 1.59744711],\n",
       "       [1.3614434 , 1.3614434 , 1.3614434 , 1.3614434 , 1.3614434 ],\n",
       "       [1.78192408, 1.78192408, 1.78192408, 1.78192408, 1.78192408],\n",
       "       [1.26456425, 1.26456425, 1.26456425, 1.26456425, 1.26456425],\n",
       "       [1.07249806, 1.07249806, 1.07249806, 1.07249806, 1.07249806]])"
      ]
     },
     "execution_count": 26,
     "metadata": {},
     "output_type": "execute_result"
    }
   ],
   "source": [
    "matrice1 + matrice2"
   ]
  },
  {
   "cell_type": "code",
   "execution_count": 32,
   "id": "910a1210",
   "metadata": {},
   "outputs": [
    {
     "data": {
      "text/plain": [
       "array([[5., 5., 5., 5., 5.],\n",
       "       [5., 5., 5., 5., 5.],\n",
       "       [5., 5., 5., 5., 5.],\n",
       "       [5., 5., 5., 5., 5.],\n",
       "       [5., 5., 5., 5., 5.]])"
      ]
     },
     "execution_count": 32,
     "metadata": {},
     "output_type": "execute_result"
    }
   ],
   "source": [
    "matrice_5 = 4+np.ones((5,5))\n",
    "matrice_5"
   ]
  },
  {
   "cell_type": "code",
   "execution_count": null,
   "id": "09ba87c9",
   "metadata": {},
   "outputs": [],
   "source": []
  }
 ],
 "metadata": {
  "kernelspec": {
   "display_name": "Python 3 (ipykernel)",
   "language": "python",
   "name": "python3"
  },
  "language_info": {
   "codemirror_mode": {
    "name": "ipython",
    "version": 3
   },
   "file_extension": ".py",
   "mimetype": "text/x-python",
   "name": "python",
   "nbconvert_exporter": "python",
   "pygments_lexer": "ipython3",
   "version": "3.9.12"
  }
 },
 "nbformat": 4,
 "nbformat_minor": 5
}
